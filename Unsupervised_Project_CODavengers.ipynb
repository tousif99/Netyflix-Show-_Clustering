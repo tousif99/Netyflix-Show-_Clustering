{
  "nbformat": 4,
  "nbformat_minor": 0,
  "metadata": {
    "colab": {
      "provenance": [],
      "authorship_tag": "ABX9TyOIQPzmKDhTaIB7GqCsF9A/",
      "include_colab_link": true
    },
    "kernelspec": {
      "name": "python3",
      "display_name": "Python 3"
    },
    "language_info": {
      "name": "python"
    }
  },
  "cells": [
    {
      "cell_type": "markdown",
      "metadata": {
        "id": "view-in-github",
        "colab_type": "text"
      },
      "source": [
        "<a href=\"https://colab.research.google.com/github/tousif99/Netyflix-Show-_Clustering/blob/main/Unsupervised_Project_CODavengers.ipynb\" target=\"_parent\"><img src=\"https://colab.research.google.com/assets/colab-badge.svg\" alt=\"Open In Colab\"/></a>"
      ]
    },
    {
      "cell_type": "markdown",
      "source": [
        "# **Project Name**    -  **Netflix Movie and TV Show Clustering**\n"
      ],
      "metadata": {
        "id": "Zaj0748CASfm"
      }
    },
    {
      "cell_type": "markdown",
      "source": [
        "##### **Project Type**    - Unsupervised ML\n",
        "##### **Contribution**    - Individual"
      ],
      "metadata": {
        "id": "PArYxfspAUoa"
      }
    },
    {
      "cell_type": "markdown",
      "source": [
        "![download.webp](data:image/webp;base64,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)"
      ],
      "metadata": {
        "id": "CCtNFfyLAW7l"
      }
    },
    {
      "cell_type": "markdown",
      "source": [
        "# **Project Summary -**"
      ],
      "metadata": {
        "id": "KCRF3U0YAZD8"
      }
    },
    {
      "cell_type": "markdown",
      "source": [
        "This project is ML unsupervised learning project. This is based on text based clustering hence, library like nltk, steming, stopwords, TF-IDF Vectorizer, PCA and visualization library like wordcloud and plotly are used. We have netflix data which has multiple text based column including, title, genre, description, casting, director etc. After EDA including data wrangling, handling missing data, univarient and bivarient analysis, we jumped to text based clustering.\n",
        "\n",
        "Based on Silhouette Coefficient and kmeans we have made 14 clustering and label them based on description. Later, we also used cosine_similarity to provide an output based on user search and description similarity."
      ],
      "metadata": {
        "id": "AOb6GJsxAb5U"
      }
    },
    {
      "cell_type": "markdown",
      "source": [
        "# **GitHub Link -**"
      ],
      "metadata": {
        "id": "P8O_zfciAeW-"
      }
    },
    {
      "cell_type": "markdown",
      "source": [
        "# **Tousif sheikh** -\n",
        "\n",
        "# **Mohammad Sufawan** -"
      ],
      "metadata": {
        "id": "DL06lTEVAki0"
      }
    }
  ]
}